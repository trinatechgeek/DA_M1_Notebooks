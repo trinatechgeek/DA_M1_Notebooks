{
  "nbformat": 4,
  "nbformat_minor": 0,
  "metadata": {
    "colab": {
      "provenance": [],
      "include_colab_link": true
    },
    "kernelspec": {
      "name": "python3",
      "display_name": "Python 3"
    },
    "language_info": {
      "name": "python"
    }
  },
  "cells": [
    {
      "cell_type": "markdown",
      "metadata": {
        "id": "view-in-github",
        "colab_type": "text"
      },
      "source": [
        "<a href=\"https://colab.research.google.com/github/trinatechgeek/DA_M1_Notebooks/blob/main/Katrina_Baker_of_week_2_2024.ipynb\" target=\"_parent\"><img src=\"https://colab.research.google.com/assets/colab-badge.svg\" alt=\"Open In Colab\"/></a>"
      ]
    },
    {
      "cell_type": "markdown",
      "source": [
        "# What are Lists in Python?\n",
        "\n",
        "**Objective:** Introduce the concept of lists in Python.\n",
        "\n",
        "Explanation:\n",
        "\n",
        "A list is a collection of items (elements) that are ordered, changeable, and allow duplicate elements.\n",
        "Lists are written with square brackets [].\n",
        "Example:\n",
        "\n",
        "```python\n",
        "fruits = [\"apple\", \"banana\", \"cherry\"]\n",
        "```\n",
        "\n",
        "Activity:\n",
        "\n",
        "- Create lists of favorite books, cities, or colors.\n",
        "- Print the list and check its type using `type()`.\n",
        "\n"
      ],
      "metadata": {
        "id": "FqqtQCvbEfea"
      }
    },
    {
      "cell_type": "code",
      "source": [
        "colors = [\"green\", \"purple\", \"blue\"]\n",
        "print(colors)\n",
        "print(type(colors))"
      ],
      "metadata": {
        "id": "VBxzp_P7kHg4",
        "colab": {
          "base_uri": "https://localhost:8080/"
        },
        "outputId": "53b5ff7b-9bb3-4974-eb5c-dfba17e6a500"
      },
      "execution_count": null,
      "outputs": [
        {
          "output_type": "stream",
          "name": "stdout",
          "text": [
            "['green', 'purple', 'blue']\n",
            "<class 'list'>\n"
          ]
        }
      ]
    },
    {
      "cell_type": "markdown",
      "source": [
        "# Using an Index to Access Lists\n",
        "\n",
        "**Objective:** Teach how to access list elements using their index.\n",
        "\n",
        "Explanation:\n",
        "\n",
        "Lists are zero-indexed, meaning the first element has an index of 0.\n",
        "Negative indexing can be used to access elements from the end of the list.\n",
        "Example:\n",
        "\n",
        "```python\n",
        "fruits = [\"apple\", \"banana\", \"cherry\"]\n",
        "print(fruits[0])  # Output: apple\n",
        "print(fruits[-1])  # Output: cherry\n",
        "```\n",
        "\n",
        "Activity:\n",
        "\n",
        "- Access different elements from your list using positive and negative indexes.\n",
        "- Practice with a out-of-range indices and note what happened."
      ],
      "metadata": {
        "id": "OpnYOl-SkHrM"
      }
    },
    {
      "cell_type": "code",
      "source": [
        "colors = [\"green\", \"purple\", \"blue\"]\n",
        "print(colors[0])\n",
        "print(colors[-1])\n",
        "print(colors[1])\n",
        "print(colors[2])"
      ],
      "metadata": {
        "id": "EHh4i3BbkzcE",
        "colab": {
          "base_uri": "https://localhost:8080/"
        },
        "outputId": "c2c7216c-47b5-419f-ea91-5933bc11044e"
      },
      "execution_count": null,
      "outputs": [
        {
          "output_type": "stream",
          "name": "stdout",
          "text": [
            "green\n",
            "blue\n",
            "purple\n",
            "blue\n"
          ]
        }
      ]
    },
    {
      "cell_type": "markdown",
      "source": [
        "# Important Functions and Methods for Lists\n",
        "\n",
        "**Objective:** Familiarize students with essential list functions and methods.\n",
        "\n",
        "Explanation:\n",
        "\n",
        "Common list methods:\n",
        "- `append()`: Add an item at the end.\n",
        "- `insert()`: Insert an item at a specific index.\n",
        "- `remove()`: Remove a specific item.\n",
        "- `pop()`: Remove an item at a specific position (or the last one if no index is provided).\n",
        "- `sort()`: Sort the list.\n",
        "\n",
        "Example:\n",
        "\n",
        "```python\n",
        "fruits = [\"apple\", \"banana\", \"cherry\"]\n",
        "fruits.append(\"orange\")\n",
        "fruits.remove(\"banana\")\n",
        "print(fruits)  # Output: [\"apple\", \"cherry\", \"orange\"]\n",
        "```\n",
        "\n",
        "Activity:\n",
        "\n",
        "- Modify your lists using different methods (add, remove, and sort elements).\n",
        "- Practice `pop()` to see how it returns and removes an element."
      ],
      "metadata": {
        "id": "k6lAH4qskzrX"
      }
    },
    {
      "cell_type": "code",
      "source": [
        "colors = [\"green\", \"purple\", \"blue\"]\n",
        "colors.append(\"yellow\")\n",
        "colors.remove(\"purple\")\n",
        "colors.append(\"pink\")\n",
        "print(colors)\n",
        "colors.append(\"orange\")\n",
        "colors.pop(0)\n",
        "print(colors)\n",
        "colors.sort()\n",
        "print(colors)"
      ],
      "metadata": {
        "id": "De2Kjp-RMzKP",
        "colab": {
          "base_uri": "https://localhost:8080/"
        },
        "outputId": "9fcc6eb0-7e70-4cd3-9ba3-a97081ebeac4"
      },
      "execution_count": null,
      "outputs": [
        {
          "output_type": "stream",
          "name": "stdout",
          "text": [
            "['green', 'blue', 'yellow', 'pink']\n",
            "['blue', 'yellow', 'pink', 'orange']\n",
            "['blue', 'orange', 'pink', 'yellow']\n"
          ]
        }
      ]
    },
    {
      "cell_type": "markdown",
      "source": [
        "# Iterating Using the for Loop\n",
        "\n",
        "**Objective:** Teach how to iterate over lists using for loops.\n",
        "\n",
        "**Explanation:**\n",
        "\n",
        "A for loop allows you to go through each element in a list.\n",
        "It repeats the block of code for every element.\n",
        "\n",
        "Example:\n",
        "\n",
        "```python\n",
        "fruits = [\"apple\", \"banana\", \"cherry\"]\n",
        "for fruit in fruits:\n",
        "    print(fruit)\n",
        "```\n",
        "\n",
        "Activity:\n",
        "\n",
        "- Write a for loop that prints each element of their lists.\n",
        "- Combine a for loop with an if condition (e.g., print only fruits starting with \"a\").\n"
      ],
      "metadata": {
        "id": "4uRYh4WnmdxQ"
      }
    },
    {
      "cell_type": "code",
      "source": [
        "fruits = [\"apple\", \"banana\", \"apricot\", \"kiwi\"]\n",
        "for fruit in fruits:\n",
        "  if fruit[0] == \"a\":\n",
        "    print(fruit)"
      ],
      "metadata": {
        "id": "MZgJu1fGmjmz",
        "colab": {
          "base_uri": "https://localhost:8080/"
        },
        "outputId": "bdb4aeda-edf7-40c6-ddb4-9eca8d63ccbe"
      },
      "execution_count": null,
      "outputs": [
        {
          "output_type": "stream",
          "name": "stdout",
          "text": [
            "apple\n",
            "apricot\n"
          ]
        }
      ]
    },
    {
      "cell_type": "code",
      "source": [
        "fruits = [\"apple\", \"banana\", \"apricot\", \"kiwi\", \"orange\"]\n",
        "for fruit in fruits:\n",
        "  if fruit[-1] == \"e\":\n",
        "    print(fruit)"
      ],
      "metadata": {
        "id": "6HliDhbVhqRG",
        "outputId": "96233040-8be1-4912-d021-034bb6d86054",
        "colab": {
          "base_uri": "https://localhost:8080/"
        }
      },
      "execution_count": null,
      "outputs": [
        {
          "output_type": "stream",
          "name": "stdout",
          "text": [
            "apple\n",
            "orange\n"
          ]
        }
      ]
    },
    {
      "cell_type": "code",
      "source": [
        "fruits = [\"apple\", \"banana\", \"apricot\", \"kiwi\"]\n",
        "for fruit in fruits:\n",
        "  if fruit[0] == \"b\":\n",
        "    print(fruit)"
      ],
      "metadata": {
        "colab": {
          "base_uri": "https://localhost:8080/"
        },
        "id": "Z8G354QJ5hdT",
        "outputId": "668d8de6-1ed4-4947-f97f-c6b22e8e819f"
      },
      "execution_count": null,
      "outputs": [
        {
          "output_type": "stream",
          "name": "stdout",
          "text": [
            "banana\n"
          ]
        }
      ]
    },
    {
      "cell_type": "markdown",
      "source": [
        "# Using Ranges to Create Sequences of Numbers\n",
        "\n",
        "**Objective:** Learn how to generate a range of numbers and use them in loops.\n",
        "\n",
        "Explanation:\n",
        "\n",
        "`range(start, stop, step)` generates numbers in a sequence.\n",
        "It’s often used in for loops when working with indices or generating sequences.\n",
        "Example:\n",
        "\n",
        "```python\n",
        "for i in range(5):\n",
        "    print(i)  # Output: 0, 1, 2, 3, 4\n",
        "```\n",
        "\n",
        "**Activity:**\n",
        "\n",
        "- Write a loop that uses `range()` to print numbers from 1 to 10.\n",
        "- Use a step of 2 to print every second number.\n",
        "\n"
      ],
      "metadata": {
        "id": "QiSH1jNqmj-F"
      }
    },
    {
      "cell_type": "code",
      "source": [
        "for i in range(1, 20, 3):\n",
        "  print(i) # output: 0, 1, 2, 3, 4, 5, 6, 7"
      ],
      "metadata": {
        "id": "-sCSwObLoG7W",
        "colab": {
          "base_uri": "https://localhost:8080/"
        },
        "outputId": "8394d6f3-4628-4042-d5ef-22569f1c15d5"
      },
      "execution_count": null,
      "outputs": [
        {
          "output_type": "stream",
          "name": "stdout",
          "text": [
            "1\n",
            "4\n",
            "7\n",
            "10\n",
            "13\n",
            "16\n",
            "19\n"
          ]
        }
      ]
    },
    {
      "cell_type": "markdown",
      "source": [
        "# Sequences\n",
        "\n",
        "**Objective:** Understand sequences and their shared characteristics.\n",
        "\n",
        "**Explanation:**\n",
        "\n",
        "Lists, strings, and tuples are all sequences in Python.\n",
        "Sequences support common operations like indexing, slicing, and iteration.\n",
        "Example:\n",
        "\n",
        "```python\n",
        "sequence = [1, 2, 3, 4, 5]\n",
        "print(sequence[0])  # Output: 1\n",
        "```\n",
        "\n",
        "Activity:\n",
        "\n",
        "- Create sequences using different data types (list, string, tuple).\n",
        "- Discuss similarities between lists and other sequences (e.g., strings can be indexed similarly).\n",
        "\n",
        "\n"
      ],
      "metadata": {
        "id": "wuUAqq0goHSs"
      }
    },
    {
      "cell_type": "code",
      "source": [
        "sequence = [1, 2, 3, 4, 5]\n",
        "sequence.append(6)\n",
        "print(sequence[3])"
      ],
      "metadata": {
        "id": "180KxnhYod7L",
        "colab": {
          "base_uri": "https://localhost:8080/"
        },
        "outputId": "ca6a71c1-a274-4337-c7cf-87c3ffff32ab"
      },
      "execution_count": null,
      "outputs": [
        {
          "output_type": "stream",
          "name": "stdout",
          "text": [
            "4\n"
          ]
        }
      ]
    },
    {
      "cell_type": "code",
      "source": [
        "fruits = [\"apple\", \"banana\", \"kiwi\", \"blueberry\"]\n",
        "print(fruits[1])"
      ],
      "metadata": {
        "colab": {
          "base_uri": "https://localhost:8080/"
        },
        "id": "x8-VhDLp6-Gj",
        "outputId": "411bb8fa-6d2d-450b-c8be-e8dee450e9ae"
      },
      "execution_count": null,
      "outputs": [
        {
          "output_type": "stream",
          "name": "stdout",
          "text": [
            "banana\n"
          ]
        }
      ]
    },
    {
      "cell_type": "code",
      "source": [
        "mytuple = (\"apple\", \"banana\", \"kiwi\", \"blueberry\")\n",
        "print(mytuple[2])"
      ],
      "metadata": {
        "colab": {
          "base_uri": "https://localhost:8080/"
        },
        "id": "JlK-ZQnj9rH8",
        "outputId": "f3978832-894a-4cc1-c4ab-5e4113526c23"
      },
      "execution_count": null,
      "outputs": [
        {
          "output_type": "stream",
          "name": "stdout",
          "text": [
            "kiwi\n"
          ]
        }
      ]
    },
    {
      "cell_type": "markdown",
      "source": [
        "# Slicing\n",
        "\n",
        "**Objective:** Learn how to extract subsets of a list using slicing.\n",
        "\n",
        "**Explanation:**\n",
        "\n",
        "Slicing allows you to extract parts of a list (or any sequence) using start:end:step.\n",
        "start is inclusive, but end is exclusive.\n",
        "Example:\n",
        "\n",
        "```python\n",
        "numbers = [0, 1, 2, 3, 4, 5]\n",
        "print(numbers[1:4])  # Output: [1, 2, 3]\n",
        "```\n",
        "\n",
        "**Activity:**\n",
        "\n",
        "- Extract a subset of their list using slicing.\n",
        "- Try slices with different step values (e.g., reverse the list with [::-1]).\n"
      ],
      "metadata": {
        "id": "U9NF7lWmofVd"
      }
    },
    {
      "cell_type": "code",
      "source": [
        "fruits = [\"apple\", \"banana\", \"kiwi\", \"blueberry\"]\n",
        "print(fruits[1:3]) # Output: [1,2,3]"
      ],
      "metadata": {
        "id": "nLTFgBg3o7i-",
        "colab": {
          "base_uri": "https://localhost:8080/"
        },
        "outputId": "3c366f52-ee98-4c8f-8c4e-e9634a03afb7"
      },
      "execution_count": null,
      "outputs": [
        {
          "output_type": "stream",
          "name": "stdout",
          "text": [
            "['banana', 'kiwi']\n"
          ]
        }
      ]
    },
    {
      "cell_type": "code",
      "source": [
        "fruits = [\"apple\", \"banana\", \"kiwi\", \"blueberry\"]\n",
        "print(fruits[::-1]) # Output: [1,2,3]"
      ],
      "metadata": {
        "colab": {
          "base_uri": "https://localhost:8080/"
        },
        "id": "B5IfL_hu7-ax",
        "outputId": "999c0bcc-0d1a-427d-f009-a9f19f89fe6e"
      },
      "execution_count": null,
      "outputs": [
        {
          "output_type": "stream",
          "name": "stdout",
          "text": [
            "['blueberry', 'kiwi', 'banana', 'apple']\n"
          ]
        }
      ]
    },
    {
      "cell_type": "code",
      "source": [
        "fruits = [\"apple\", \"banana\", \"kiwi\", \"blueberry\"]\n",
        "fruits.sort(reverse=True)\n",
        "print(fruits[1:3]) #output [1, 2, 3]"
      ],
      "metadata": {
        "colab": {
          "base_uri": "https://localhost:8080/"
        },
        "id": "P4scxa0S8HI8",
        "outputId": "5f542188-23c6-4680-a4b0-b1306f913a98"
      },
      "execution_count": null,
      "outputs": [
        {
          "output_type": "stream",
          "name": "stdout",
          "text": [
            "['blueberry', 'banana']\n"
          ]
        }
      ]
    },
    {
      "cell_type": "markdown",
      "source": [
        "# List Comprehension\n",
        "\n",
        "**Objective:** Introduce list comprehension for creating new lists in a concise way.\n",
        "\n",
        "**Explanation:**\n",
        "\n",
        "List comprehension offers a shorter syntax to create new lists based on existing ones.\n",
        "Example:\n",
        "\n",
        "```python\n",
        "numbers = [1, 2, 3, 4, 5]\n",
        "squares = [x**2 for x in numbers]\n",
        "print(squares)  # Output: [1, 4, 9, 16, 25]\n",
        "```\n",
        "\n",
        "**Activity:**\n",
        "\n",
        "- create a new list using list comprehension, e.g., a list of squares or even numbers.\n",
        "- ***Challenge*** include an if condition in the comprehension, such as filtering out odd numbers."
      ],
      "metadata": {
        "id": "FXvlWq_3o7qr"
      }
    },
    {
      "cell_type": "code",
      "source": [
        "numbers = [1, 2, 3, 4, 5]\n",
        "squares = [x**2 for x in numbers]\n",
        "print(squares)"
      ],
      "metadata": {
        "id": "kqY4gunPpjhG",
        "colab": {
          "base_uri": "https://localhost:8080/"
        },
        "outputId": "6af29984-2303-487d-cc45-207c7fdd20cc"
      },
      "execution_count": null,
      "outputs": [
        {
          "output_type": "stream",
          "name": "stdout",
          "text": [
            "[1, 4, 9, 16, 25]\n"
          ]
        }
      ]
    },
    {
      "cell_type": "code",
      "source": [
        "numbers = [1, 2, 3, 4, 5, 6, 7, 8, 9, 10]\n",
        "even_numbers = [x for x in numbers if x % 2 == 0]\n",
        "print(even_numbers)"
      ],
      "metadata": {
        "colab": {
          "base_uri": "https://localhost:8080/"
        },
        "id": "fpHsBUn-lS6E",
        "outputId": "4523e20c-e65a-47f4-c4bf-f286c7aa5391"
      },
      "execution_count": null,
      "outputs": [
        {
          "output_type": "stream",
          "name": "stdout",
          "text": [
            "[2, 4, 6, 8, 10]\n"
          ]
        }
      ]
    },
    {
      "cell_type": "markdown",
      "source": [
        "# Final Exercise:\n",
        "\n",
        "Create a program that:\n",
        "- Asks the user to input a list of numbers  \n",
        "- Then prints the list.\n",
        "- Slices and prints the first 3 elements\n",
        "- Uses list comprehension to print the square of each number."
      ],
      "metadata": {
        "id": "uQiffD-8plJs"
      }
    },
    {
      "cell_type": "code",
      "source": [
        "numbers = [1,2,3,4,5,6,7,8,9,10]\n",
        "print(numbers)\n",
        "print(numbers[:3])\n",
        "squares = [x**2 for x in numbers]\n",
        "print(squares)"
      ],
      "metadata": {
        "id": "zG9FeDZMqbon",
        "colab": {
          "base_uri": "https://localhost:8080/"
        },
        "outputId": "1d2d7b37-e8d3-4742-b954-52567e650fb9"
      },
      "execution_count": null,
      "outputs": [
        {
          "output_type": "stream",
          "name": "stdout",
          "text": [
            "[1, 2, 3, 4, 5, 6, 7, 8, 9, 10]\n",
            "[1, 2, 3]\n",
            "[1, 4, 9, 16, 25, 36, 49, 64, 81, 100]\n"
          ]
        }
      ]
    },
    {
      "cell_type": "markdown",
      "source": [
        "# Bonus\n",
        "\n",
        "### FizzBuzz Instructions:\n",
        "\n",
        "1. Objective: Write a program that prints the numbers from 1 to 100.\n",
        "    - But for multiples of 3, print \"Fizz\" instead of the number\n",
        "  - For multiples of 5, print \"Buzz.\"\n",
        "  - For numbers which are multiples of both 3 and 5, print \"FizzBuzz.\"\n",
        "\n",
        "2. Using the Modulus Operator (%):\n",
        "  - The modulus operator is key to determining whether a number is divisible by another number. It returns the remainder of a division.\n",
        "\n",
        "\n",
        "3. Steps:\n",
        "\n",
        "  - Loop through numbers from 1 to 100.\n",
        "  - For each number, use the modulus operator to check:\n",
        "  - If it is divisible by both 3 and 5, print \"FizzBuzz.\"\n",
        "  - If it is divisible only by 3, print \"Fizz.\"\n",
        "  - If it is divisible only by 5, print \"Buzz.\"\n",
        "  - Otherwise, print the number itself.\n"
      ],
      "metadata": {
        "id": "aGs2Lzd_NEn8"
      }
    },
    {
      "cell_type": "code",
      "source": [
        "for i in range(1, 101):\n",
        "  print(i, end=\" \")\n",
        "  if i % 3 == 0 and i % 5 == 0:\n",
        "    print(\"fizzbuzz\")\n",
        "  elif i % 3 == 0:\n",
        "    print(\"fizz\")\n",
        "  elif i % 5 == 0:\n",
        "    print(\"buzz\")"
      ],
      "metadata": {
        "id": "Sbig89F5NZmQ",
        "colab": {
          "base_uri": "https://localhost:8080/"
        },
        "outputId": "33ad29ee-fc2d-4332-cf9f-6054becc0497"
      },
      "execution_count": null,
      "outputs": [
        {
          "output_type": "stream",
          "name": "stdout",
          "text": [
            "1 2 3 fizz\n",
            "4 5 buzz\n",
            "6 fizz\n",
            "7 8 9 fizz\n",
            "10 buzz\n",
            "11 12 fizz\n",
            "13 14 15 fizzbuzz\n",
            "16 17 18 fizz\n",
            "19 20 buzz\n",
            "21 fizz\n",
            "22 23 24 fizz\n",
            "25 buzz\n",
            "26 27 fizz\n",
            "28 29 30 fizzbuzz\n",
            "31 32 33 fizz\n",
            "34 35 buzz\n",
            "36 fizz\n",
            "37 38 39 fizz\n",
            "40 buzz\n",
            "41 42 fizz\n",
            "43 44 45 fizzbuzz\n",
            "46 47 48 fizz\n",
            "49 50 buzz\n",
            "51 fizz\n",
            "52 53 54 fizz\n",
            "55 buzz\n",
            "56 57 fizz\n",
            "58 59 60 fizzbuzz\n",
            "61 62 63 fizz\n",
            "64 65 buzz\n",
            "66 fizz\n",
            "67 68 69 fizz\n",
            "70 buzz\n",
            "71 72 fizz\n",
            "73 74 75 fizzbuzz\n",
            "76 77 78 fizz\n",
            "79 80 buzz\n",
            "81 fizz\n",
            "82 83 84 fizz\n",
            "85 buzz\n",
            "86 87 fizz\n",
            "88 89 90 fizzbuzz\n",
            "91 92 93 fizz\n",
            "94 95 buzz\n",
            "96 fizz\n",
            "97 98 99 fizz\n",
            "100 buzz\n"
          ]
        }
      ]
    }
  ]
}